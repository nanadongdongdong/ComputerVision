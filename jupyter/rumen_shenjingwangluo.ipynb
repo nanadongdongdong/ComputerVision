{
 "cells": [
  {
   "cell_type": "code",
   "execution_count": 1,
   "id": "69773998",
   "metadata": {},
   "outputs": [],
   "source": [
    "#之前的两章，设定权重的工作是由人工进行的。而神经网络，它可以自动地从数据中学习到合适的权重参数\n",
    "#输入层，输出层，中间层（隐藏层）"
   ]
  },
  {
   "cell_type": "code",
   "execution_count": 2,
   "id": "b72c2425",
   "metadata": {},
   "outputs": [],
   "source": [
    "#感知机：y=h(b+w1x1+w2x2),h(x)={0(x<=0);1(x>0)}\n",
    "#激活函数：将输入信号的总和转换为输出信号\n",
    "#朴素感知机：单层网络。激活函数使用了阶跃函数\n",
    "#多层感知机：神经网络。激活函数使用了sigmoid"
   ]
  },
  {
   "cell_type": "code",
   "execution_count": 4,
   "id": "c82ac5db",
   "metadata": {},
   "outputs": [],
   "source": [
    "#激活函数：进行信号的转换\n",
    "#阶跃函数：以阈值为界，一旦输入超过阈值，就切换输出\n",
    "#sigmoid函数： 1/(1+exp(-x))\n",
    "#共通点：输入小，输出接近0，输入大，输出向1靠近。输入信号为重要信息，输出比较大的值。输出信号的值在0到1之间"
   ]
  },
  {
   "cell_type": "code",
   "execution_count": 5,
   "id": "9e478696",
   "metadata": {},
   "outputs": [],
   "source": [
    "#阶跃函数\n",
    "def step_function(x):\n",
    "    if x>0:\n",
    "        return 1\n",
    "    else:\n",
    "        return 0\n",
    "#但是参数只能接受实数，如果参数是Numpy数组\n",
    "def step_function(x):\n",
    "    y=x>0\n",
    "    return y.astype(np.int)"
   ]
  },
  {
   "cell_type": "code",
   "execution_count": 6,
   "id": "a3a09b1a",
   "metadata": {},
   "outputs": [
    {
     "data": {
      "text/plain": [
       "array([-1.,  1.,  2.])"
      ]
     },
     "execution_count": 6,
     "metadata": {},
     "output_type": "execute_result"
    }
   ],
   "source": [
    "import numpy as np\n",
    "x=np.array([-1.0,1.0,2.0])\n",
    "x"
   ]
  },
  {
   "cell_type": "code",
   "execution_count": 7,
   "id": "366137e2",
   "metadata": {},
   "outputs": [
    {
     "data": {
      "text/plain": [
       "array([False,  True,  True])"
      ]
     },
     "execution_count": 7,
     "metadata": {},
     "output_type": "execute_result"
    }
   ],
   "source": [
    "y=x>0\n",
    "y"
   ]
  },
  {
   "cell_type": "code",
   "execution_count": 8,
   "id": "42abcd2a",
   "metadata": {},
   "outputs": [
    {
     "data": {
      "text/plain": [
       "array([0, 1, 1])"
      ]
     },
     "execution_count": 8,
     "metadata": {},
     "output_type": "execute_result"
    }
   ],
   "source": [
    "y=y.astype(np.int)#astype()方法转换Numpy数组的类型\n",
    "y"
   ]
  },
  {
   "cell_type": "code",
   "execution_count": 9,
   "id": "65afa2cd",
   "metadata": {},
   "outputs": [
    {
     "data": {
      "image/png": "[encoded data removed]",
      "text/plain": [
       "<Figure size 432x288 with 1 Axes>"
      ]
     },
     "metadata": {
      "needs_background": "light"
     },
     "output_type": "display_data"
    }
   ],
   "source": [
    "#绘制阶跃函数\n",
    "import matplotlib.pylab as plt\n",
    "def step_function(x):\n",
    "    return np.array(x>0,dtype=np.int)\n",
    "x=np.arange(-5.0,5.0,0.1)\n",
    "y=step_function(x)\n",
    "plt.plot(x,y)\n",
    "plt.ylim(-0.1,1.1)#制定y轴范围\n",
    "plt.show()"
   ]
  },
  {
   "cell_type": "code",
   "execution_count": 10,
   "id": "d8766afc",
   "metadata": {},
   "outputs": [
    {
     "data": {
      "image/png": "[encoded data removed]",
      "text/plain": [
       "<Figure size 432x288 with 1 Axes>"
      ]
     },
     "metadata": {
      "needs_background": "light"
     },
     "output_type": "display_data"
    }
   ],
   "source": [
    "#sigmoid函数\n",
    "def sigmoid(x):\n",
    "    return 1/(1+np.exp(-x))\n",
    "x=np.arange(-5.0,5.0,0.1)\n",
    "y=sigmoid(x)\n",
    "plt.plot(x,y)\n",
    "plt.ylim(-0.1,1.1)\n",
    "plt.show()"
   ]
  },
  {
   "cell_type": "code",
   "execution_count": 11,
   "id": "4d36cc55",
   "metadata": {},
   "outputs": [],
   "source": [
    "#神经网络的激活函数必须使用非线性函数，否则隐藏层（加深神经网络的层数）没有意义。\n",
    "#因为：y=h(h(h(x))),h(x)=cx,则y=c*c*c*x,即y=ax(a=c*c*c)\n",
    "#激活函数：ReLU\n",
    "#ReLU:h(x)={x(x>0);0(x<=0)}\n",
    "import numpy as np\n",
    "def relu(x):\n",
    "    return np.maximum(0,x)"
   ]
  },
  {
   "cell_type": "code",
   "execution_count": 12,
   "id": "281ea629",
   "metadata": {},
   "outputs": [
    {
     "data": {
      "text/plain": [
       "1"
      ]
     },
     "execution_count": 12,
     "metadata": {},
     "output_type": "execute_result"
    }
   ],
   "source": [
    "#多维数组\n",
    "A=np.array([1,2,3,4])\n",
    "np.ndim(A)#数组的维数,一维数组"
   ]
  },
  {
   "cell_type": "code",
   "execution_count": 13,
   "id": "869b09bc",
   "metadata": {},
   "outputs": [
    {
     "data": {
      "text/plain": [
       "(4,)"
      ]
     },
     "execution_count": 13,
     "metadata": {},
     "output_type": "execute_result"
    }
   ],
   "source": [
    "A.shape"
   ]
  },
  {
   "cell_type": "code",
   "execution_count": 14,
   "id": "45e9a76f",
   "metadata": {},
   "outputs": [
    {
     "data": {
      "text/plain": [
       "4"
      ]
     },
     "execution_count": 14,
     "metadata": {},
     "output_type": "execute_result"
    }
   ],
   "source": [
    "A.shape[0]#第0轴"
   ]
  },
  {
   "cell_type": "code",
   "execution_count": 15,
   "id": "84535601",
   "metadata": {},
   "outputs": [
    {
     "data": {
      "text/plain": [
       "2"
      ]
     },
     "execution_count": 15,
     "metadata": {},
     "output_type": "execute_result"
    }
   ],
   "source": [
    "B=np.array([[1,2],[3,4],[5,6]])\n",
    "np.ndim(B)#二维数组3*2"
   ]
  },
  {
   "cell_type": "code",
   "execution_count": 16,
   "id": "bca7c35a",
   "metadata": {},
   "outputs": [
    {
     "data": {
      "text/plain": [
       "(3, 2)"
      ]
     },
     "execution_count": 16,
     "metadata": {},
     "output_type": "execute_result"
    }
   ],
   "source": [
    "B.shape"
   ]
  },
  {
   "cell_type": "code",
   "execution_count": 17,
   "id": "d4584398",
   "metadata": {},
   "outputs": [
    {
     "data": {
      "text/plain": [
       "3"
      ]
     },
     "execution_count": 17,
     "metadata": {},
     "output_type": "execute_result"
    }
   ],
   "source": [
    "B.shape[0]"
   ]
  },
  {
   "cell_type": "code",
   "execution_count": 18,
   "id": "89814239",
   "metadata": {},
   "outputs": [
    {
     "data": {
      "text/plain": [
       "array([[19, 22],\n",
       "       [43, 50]])"
      ]
     },
     "execution_count": 18,
     "metadata": {},
     "output_type": "execute_result"
    }
   ],
   "source": [
    "#矩阵乘法\n",
    "A=np.array([[1,2],[3,4]])\n",
    "B=np.array([[5,6],[7,8]])\n",
    "np.dot(A,B)"
   ]
  },
  {
   "cell_type": "code",
   "execution_count": 20,
   "id": "e748abe4",
   "metadata": {},
   "outputs": [
    {
     "name": "stdout",
     "output_type": "stream",
     "text": [
      "[ 5 11 17]\n"
     ]
    }
   ],
   "source": [
    "#神经网络内积\n",
    "#A*B=C\n",
    "#X*W=Y  X:2 W:2*3 Y:3\n",
    "#x=(x1 x2) w=(w11 w21 w31;w12,w22,w32)\n",
    "x=np.array([1,2])\n",
    "w=np.array([[1,3,5],[2,4,6]])\n",
    "y=np.dot(x,w)\n",
    "print(y)"
   ]
  },
  {
   "cell_type": "code",
   "execution_count": 21,
   "id": "33511089",
   "metadata": {},
   "outputs": [],
   "source": [
    "#恒等函数：将输入照原样输出,其实就是全连接的意思\n",
    "def identity_function(x):\n",
    "    return x"
   ]
  },
  {
   "cell_type": "code",
   "execution_count": 23,
   "id": "6899eeae",
   "metadata": {},
   "outputs": [
    {
     "name": "stdout",
     "output_type": "stream",
     "text": [
      "[0.31682708 0.69627909]\n"
     ]
    }
   ],
   "source": [
    "def init_network():\n",
    "    network={}\n",
    "    network[\"W1\"]=np.array([[0.1,0.3,0.5],[0.2,0.4,0.6]])#2*3，两个输入，三个输出\n",
    "    network[\"b1\"]=np.array([0.1,0.2,0.3])\n",
    "    network[\"W2\"]=np.array([[0.1,0.4],[0.2,0.5],[0.3,0.6]])#3*2，三个输入，两个输出\n",
    "    network[\"b2\"]=np.array([0.1,0.2])\n",
    "    network[\"W3\"]=np.array([[0.1,0.3],[0.2,0.4]])#2*2，两个输入，两个输出\n",
    "    network[\"b3\"]=np.array([0.1,0.2])\n",
    "    return network\n",
    "def forward(network,x):\n",
    "    W1,W2,W3=network[\"W1\"],network[\"W2\"],network[\"W3\"]\n",
    "    b1,b2,b3=network[\"b1\"],network[\"b2\"],network[\"b3\"]\n",
    "    \n",
    "    a1=np.dot(x,W1)+b1\n",
    "    z1=sigmoid(a1)\n",
    "    a2=np.dot(z1,W2)+b2\n",
    "    z2=sigmoid(a2)\n",
    "    a3=np.dot(z2,W3)+b3\n",
    "    y=identity_function(a3)\n",
    "    return y\n",
    "network=init_network()\n",
    "x=np.array([1.0,0.5])\n",
    "y=forward(network,x)\n",
    "print(y)"
   ]
  },
  {
   "cell_type": "code",
   "execution_count": 24,
   "id": "85315a26",
   "metadata": {},
   "outputs": [],
   "source": [
    "#输出层设计\n",
    "#机器学习：回归问题和分类问题\n",
    "#回归问题（根据某个输入预测一个数值）用恒等函数\n",
    "#分类问题（属于哪一个类别）用softmax函数"
   ]
  },
  {
   "cell_type": "code",
   "execution_count": 25,
   "id": "3ef09a6b",
   "metadata": {},
   "outputs": [
    {
     "name": "stdout",
     "output_type": "stream",
     "text": [
      "[0.01821127 0.24519181 0.73659691]\n"
     ]
    }
   ],
   "source": [
    "#softmax:输出是0-1之间的实数，输出值总和为1，把softmax函数的输出解释为“概率”；使用softmax各元素大小关系不会改变，因为exp是单调递增函数\n",
    "#y(k)=exp(ak)/exp(ai)(i=1-n，且ai的求和)\n",
    "def softmax(a):\n",
    "    exp_a=np.exp(a)\n",
    "    sum_exp_a=np.sum(exp_a)\n",
    "    y=exp_a/sum_exp_a\n",
    "    return y\n",
    "#问题：exp(1000)会返回无穷大的数，输出nan，叫做溢出\n",
    "#解决：减去输入信号的最大值\n",
    "def softmax(a):\n",
    "    c=np.max(a)\n",
    "    exp_a=np.exp(a-c)#溢出对策\n",
    "    sum_exp_a=np.sum(exp_a)\n",
    "    y=exp_a/sum_exp_a\n",
    "    return y\n",
    "\n",
    "a=np.array([0.3,2.9,4.0])\n",
    "y=softmax(a)\n",
    "print(y)#y[0]概率0.018（1.8%），y[1]概率0.245,y[2]概率0.737,因为第2个元素概率最高，所以答案是第2个类别\n",
    "    \n"
   ]
  },
  {
   "cell_type": "code",
   "execution_count": 26,
   "id": "2fd84e4f",
   "metadata": {},
   "outputs": [],
   "source": [
    "#神经网络只把输出值最大的神经元所对应的类别作为识别结果"
   ]
  },
  {
   "cell_type": "code",
   "execution_count": 27,
   "id": "d42e6d69",
   "metadata": {},
   "outputs": [],
   "source": [
    "#求解机器学习问题的步骤分为“学习”“推理”\n",
    "#学习：在学习阶段进行模型的学习\n",
    "#推理：用学到的模型对未知数据进行推理（分类）\n",
    "#对于分类问题，输出层的神经元的数量一般设定为类别的数量\n",
    "\n",
    "#使用神经网络解决问题时：\n",
    "#首先使用训练数据（学习数据）进行权重参数的学习\n",
    "#进行推理时，用刚才学习到的参数，对输入数据进行分类"
   ]
  },
  {
   "cell_type": "code",
   "execution_count": 28,
   "id": "a3fe6115",
   "metadata": {},
   "outputs": [
    {
     "data": {
      "text/plain": [
       "['C:\\\\Users\\\\Lenovo',\n",
       " 'E:\\\\ProgramData\\\\Anaconda3\\\\python38.zip',\n",
       " 'E:\\\\ProgramData\\\\Anaconda3\\\\DLLs',\n",
       " 'E:\\\\ProgramData\\\\Anaconda3\\\\lib',\n",
       " 'E:\\\\ProgramData\\\\Anaconda3',\n",
       " '',\n",
       " 'E:\\\\ProgramData\\\\Anaconda3\\\\lib\\\\site-packages',\n",
       " 'E:\\\\ProgramData\\\\Anaconda3\\\\lib\\\\site-packages\\\\locket-0.2.1-py3.8.egg',\n",
       " 'E:\\\\ProgramData\\\\Anaconda3\\\\lib\\\\site-packages\\\\win32',\n",
       " 'E:\\\\ProgramData\\\\Anaconda3\\\\lib\\\\site-packages\\\\win32\\\\lib',\n",
       " 'E:\\\\ProgramData\\\\Anaconda3\\\\lib\\\\site-packages\\\\Pythonwin',\n",
       " 'E:\\\\ProgramData\\\\Anaconda3\\\\lib\\\\site-packages\\\\IPython\\\\extensions',\n",
       " 'C:\\\\Users\\\\Lenovo\\\\.ipython']"
      ]
     },
     "execution_count": 28,
     "metadata": {},
     "output_type": "execute_result"
    }
   ],
   "source": [
    "#前面介绍了神经网络的结构\n",
    "#现在，假设学习已经全部结束，我们使用学习到的参数，先实现神经网络的“推理处理”，这个推理处理也叫作神经网络的前向传播\n",
    "#手写数字识别\n",
    "#MNIST手写数字图像集（使用方法：先用训练图像进行学习，再用学习到的模型度量能在多大程度上对测试图像进行正确的分类），28*28灰度图像(1通道)\n",
    "import sys\n",
    "sys.path"
   ]
  },
  {
   "cell_type": "code",
   "execution_count": 30,
   "id": "35baef67",
   "metadata": {},
   "outputs": [
    {
     "data": {
      "text/plain": [
       "'..'"
      ]
     },
     "execution_count": 30,
     "metadata": {},
     "output_type": "execute_result"
    }
   ],
   "source": [
    "import os\n",
    "os.pardir"
   ]
  },
  {
   "cell_type": "code",
   "execution_count": 31,
   "id": "1a571e24",
   "metadata": {},
   "outputs": [],
   "source": [
    "#load_mnist函数：（训练图像，训练标签），（测试图像，测试标签）\n",
    "#load_mnist(normalize=True,flatten=True,one_hot_label=False)\n",
    "#normalize:是否将输入图像正规化为0.0-1.0的值。False：输入图像像素为0-255\n",
    "#flatten:是否展开图像（变为一维数组）。False:1*28*28;True:784\n",
    "#one_hot_label.True:正确解标签为1其余为0；False:7,2这样保存正确解标签"
   ]
  },
  {
   "cell_type": "code",
   "execution_count": 32,
   "id": "c2ecdcc3",
   "metadata": {},
   "outputs": [
    {
     "data": {
      "text/plain": [
       "'C:\\\\Users\\\\Lenovo'"
      ]
     },
     "execution_count": 32,
     "metadata": {},
     "output_type": "execute_result"
    }
   ],
   "source": [
    "os.getcwd()"
   ]
  },
  {
   "cell_type": "code",
   "execution_count": 34,
   "id": "50ac7433",
   "metadata": {},
   "outputs": [
    {
     "name": "stdout",
     "output_type": "stream",
     "text": [
      "5\n"
     ]
    }
   ],
   "source": [
    "sys.path.append(os.getcwd())\n",
    "import numpy as np\n",
    "from dataset.mnist import load_mnist\n",
    "from PIL import Image\n",
    "\n",
    "def img_show(img):\n",
    "    pil_img=Image.fromarray(np.uint8(img))\n",
    "    pil_img.show()\n",
    "\n",
    "(x_train,t_train),(x_test,t_test)=load_mnist(flatten=True,normalize=False)#读入是一维(一列)Numpy数组\n",
    "img=x_train[0]\n",
    "label=t_train[0]\n",
    "print(label)\n"
   ]
  },
  {
   "cell_type": "code",
   "execution_count": 35,
   "id": "3dfb8b67",
   "metadata": {},
   "outputs": [
    {
     "name": "stdout",
     "output_type": "stream",
     "text": [
      "(784,)\n",
      "(28, 28)\n"
     ]
    }
   ],
   "source": [
    "print(img.shape)\n",
    "img=img.reshape(28,28)#指定期望形状\n",
    "print(img.shape)"
   ]
  },
  {
   "cell_type": "code",
   "execution_count": 36,
   "id": "0474972f",
   "metadata": {},
   "outputs": [],
   "source": [
    "img_show(img)#显示的时候，要变为原来的28*28像素的图像，所以之前reshape"
   ]
  },
  {
   "cell_type": "code",
   "execution_count": 37,
   "id": "eda3974c",
   "metadata": {},
   "outputs": [],
   "source": [
    "#神经网络推理处理\n",
    "#输入层有784个神经元（28*28）,输出层有10个神经元（10类别分类，0-9）\n",
    "#两个隐藏层，第一个有50个神经元，第二个有100个神经元\n",
    "import pickle\n",
    "def get_data():\n",
    "    (x_train,t_train),(x_test,t_test)=load_mnist(flatten=True,normalize=True,one_hot_label=False)#normalize=True正规化\n",
    "    return x_test,t_test\n",
    "def init_network():\n",
    "    with open(\"E:\\BaiduNetdiskDownload\\医疗AI\\大作业\\深度学习入门\\【源代码】深度学习入门：基于Python的理论与实现\\ch03\\sample_weight.pkl\",\"rb\") as f:\n",
    "        network=pickle.load(f)#sample_weight.pkl放的权重参数\n",
    "    return network\n",
    "\n",
    "def predict(network,x):#进行分类\n",
    "    W1,W2,W3=network[\"W1\"],network[\"W2\"],network[\"W3\"]#三层神经网络\n",
    "    b1,b2,b3=network[\"b1\"],network[\"b2\"],network[\"b3\"]\n",
    "    a1=np.dot(x,W1)+b1\n",
    "    z1=sigmoid(a1)\n",
    "    a2=np.dot(z1,W2)+b2\n",
    "    z2=sigmoid(a2)\n",
    "    a3=np.dot(z2,W3)+b3\n",
    "    y=softmax(a3)#输出概率值[0.1,0.3,...],0的概率为0.1\n",
    "    return y\n"
   ]
  },
  {
   "cell_type": "code",
   "execution_count": 38,
   "id": "0184cddc",
   "metadata": {},
   "outputs": [
    {
     "name": "stdout",
     "output_type": "stream",
     "text": [
      "Accuracy:0.9352\n"
     ]
    }
   ],
   "source": [
    "x,t=get_data()\n",
    "network=init_network()\n",
    "\n",
    "accuracy_cnt=0\n",
    "for i in range(len(x)):\n",
    "    y=predict(network,x[i])#输入一个图像，784个神经元\n",
    "    p=np.argmax(y)#输出十个概率值，取最大的\n",
    "    if p==t[i]:#比较神经网络预测答案与正确解标签，回答正确的概率作为识别精度\n",
    "        accuracy_cnt+=1\n",
    "print(\"Accuracy:\"+str(float(accuracy_cnt)/len(x)))"
   ]
  },
  {
   "cell_type": "code",
   "execution_count": 39,
   "id": "e876a128",
   "metadata": {},
   "outputs": [
    {
     "data": {
      "text/plain": [
       "(10000, 784)"
      ]
     },
     "execution_count": 39,
     "metadata": {},
     "output_type": "execute_result"
    }
   ],
   "source": [
    "x.shape#10000张输入图像，每个图像784"
   ]
  },
  {
   "cell_type": "code",
   "execution_count": 40,
   "id": "cd080de9",
   "metadata": {},
   "outputs": [
    {
     "data": {
      "text/plain": [
       "10000"
      ]
     },
     "execution_count": 40,
     "metadata": {},
     "output_type": "execute_result"
    }
   ],
   "source": [
    "x.shape[0]"
   ]
  },
  {
   "cell_type": "code",
   "execution_count": 41,
   "id": "1f36b8b5",
   "metadata": {},
   "outputs": [
    {
     "data": {
      "text/plain": [
       "(784,)"
      ]
     },
     "execution_count": 41,
     "metadata": {},
     "output_type": "execute_result"
    }
   ],
   "source": [
    "x[0].shape#axis=0"
   ]
  },
  {
   "cell_type": "code",
   "execution_count": 43,
   "id": "46368407",
   "metadata": {},
   "outputs": [
    {
     "data": {
      "text/plain": [
       "(784, 50)"
      ]
     },
     "execution_count": 43,
     "metadata": {},
     "output_type": "execute_result"
    }
   ],
   "source": [
    " W1,W2,W3=network[\"W1\"],network[\"W2\"],network[\"W3\"]#三层神经网络\n",
    "W1.shape#784输入，50输出"
   ]
  },
  {
   "cell_type": "code",
   "execution_count": 44,
   "id": "db47565b",
   "metadata": {},
   "outputs": [
    {
     "data": {
      "text/plain": [
       "(50, 100)"
      ]
     },
     "execution_count": 44,
     "metadata": {},
     "output_type": "execute_result"
    }
   ],
   "source": [
    "W2.shape#50输入，100输出"
   ]
  },
  {
   "cell_type": "code",
   "execution_count": 45,
   "id": "ae29960f",
   "metadata": {},
   "outputs": [
    {
     "data": {
      "text/plain": [
       "(100, 10)"
      ]
     },
     "execution_count": 45,
     "metadata": {},
     "output_type": "execute_result"
    }
   ],
   "source": [
    "W3.shape#100输入，10输出"
   ]
  },
  {
   "cell_type": "code",
   "execution_count": 47,
   "id": "c06fc47d",
   "metadata": {},
   "outputs": [
    {
     "name": "stdout",
     "output_type": "stream",
     "text": [
      "Accuracy:0.9352\n"
     ]
    }
   ],
   "source": [
    "#批处理\n",
    "#想用predict()一次打包处理100张图片，则输入x为100*784\n",
    "x,t=get_data()\n",
    "network=init_network()\n",
    "batch_size=100#\n",
    "\n",
    "accuracy_cnt=0\n",
    "\n",
    "for i in range(0,len(x),batch_size):\n",
    "    x_batch=x[i:i+batch_size]\n",
    "    y_batch=predict(network,x_batch)\n",
    "    p=np.argmax(y_batch,axis=1)\n",
    "    accuracy_cnt+=np.sum(p==t[i:i+batch_size])\n",
    "print(\"Accuracy:\"+str(float(accuracy_cnt)/len(x)))"
   ]
  },
  {
   "cell_type": "code",
   "execution_count": 49,
   "id": "b1001893",
   "metadata": {},
   "outputs": [
    {
     "data": {
      "text/plain": [
       "[0, 1, 2, 3, 4, 5, 6, 7, 8, 9]"
      ]
     },
     "execution_count": 49,
     "metadata": {},
     "output_type": "execute_result"
    }
   ],
   "source": [
    "#理解\n",
    "#range\n",
    "list(range(0,10))"
   ]
  },
  {
   "cell_type": "code",
   "execution_count": 56,
   "id": "2c79b4b1",
   "metadata": {},
   "outputs": [
    {
     "data": {
      "text/plain": [
       "[0, 3, 6, 9]"
      ]
     },
     "execution_count": 56,
     "metadata": {},
     "output_type": "execute_result"
    }
   ],
   "source": [
    "list(range(0,10,3))"
   ]
  },
  {
   "cell_type": "code",
   "execution_count": 57,
   "id": "3ea1620e",
   "metadata": {},
   "outputs": [
    {
     "name": "stdout",
     "output_type": "stream",
     "text": [
      "[0 2 1 0]\n"
     ]
    }
   ],
   "source": [
    "#argmax\n",
    "x=np.array([[0.8,0.1,0.1],[0.3,0.1,0.6],[0.2,0.5,0.3],[0.8,0.1,0.1]])\n",
    "y=np.argmax(x,axis=1)\n",
    "print(y)"
   ]
  },
  {
   "cell_type": "code",
   "execution_count": 58,
   "id": "7b5d83cf",
   "metadata": {},
   "outputs": [
    {
     "name": "stdout",
     "output_type": "stream",
     "text": [
      "[ True  True False  True]\n"
     ]
    }
   ],
   "source": [
    "#数组比较\n",
    "y=np.array([1,2,1,0])\n",
    "t=np.array([1,2,0,0])\n",
    "print(y==t)"
   ]
  },
  {
   "cell_type": "code",
   "execution_count": 59,
   "id": "79552abe",
   "metadata": {},
   "outputs": [
    {
     "data": {
      "text/plain": [
       "3"
      ]
     },
     "execution_count": 59,
     "metadata": {},
     "output_type": "execute_result"
    }
   ],
   "source": [
    "#累积true\n",
    "np.sum(y==t)"
   ]
  },
  {
   "cell_type": "code",
   "execution_count": null,
   "id": "d826e272",
   "metadata": {},
   "outputs": [],
   "source": []
  }
 ],
 "metadata": {
  "kernelspec": {
   "display_name": "Python 3",
   "language": "python",
   "name": "python3"
  },
  "language_info": {
   "codemirror_mode": {
    "name": "ipython",
    "version": 3
   },
   "file_extension": ".py",
   "mimetype": "text/x-python",
   "name": "python",
   "nbconvert_exporter": "python",
   "pygments_lexer": "ipython3",
   "version": "3.8.8"
  }
 },
 "nbformat": 4,
 "nbformat_minor": 5
}
