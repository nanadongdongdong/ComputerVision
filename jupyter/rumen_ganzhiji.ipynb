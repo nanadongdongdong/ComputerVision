{
 "cells": [
  {
   "cell_type": "code",
   "execution_count": 20,
   "id": "dcf2f697",
   "metadata": {},
   "outputs": [],
   "source": [
    "#感知机：接收多个输入信号，输出一个信号，信号只有“流/不流”(1/0)两种取值。本书0对应不传递信号，1对应传递信号\n",
    "#两个输入的感知机：x1x2输入信号，w1w2权重，y输出信号，〇神经元或者节点，神经元会计算传送过来的信号总和，只有当这个总和超过了某个界限值，才会输出1，叫做神经元被激活\n",
    "#感知机运行原理：y={0(w1x1+w2x2<=西塔）；1（w1x1+w2x2>西塔）}，权重越大，对应该权重的信号的重要性越高\n",
    "#（w1,w2,西塔）与门，与非门，或门\n",
    "#机器学习就是将这个决定参数值的工作交给计算机自动进行。\n",
    "#学习是确定合适的参数的过程，而人做的是思考感知机的构造（模型），并把训练数据交给计算机\n",
    "#相同构造的感知机，只需通过适当的调整参数的值，就可以实现不同功能：与门，或门，与非门\n",
    "import numpy as np"
   ]
  },
  {
   "cell_type": "code",
   "execution_count": 21,
   "id": "52637528",
   "metadata": {},
   "outputs": [],
   "source": [
    "#与门\n",
    "def AND(x1,x2):\n",
    "    w1,w2,theta=0.5,0.5,0.7\n",
    "    tmp=x1*w1+x2*w2\n",
    "    if tmp<=theta:\n",
    "        return 0\n",
    "    elif tmp>theta:\n",
    "        return 1"
   ]
  },
  {
   "cell_type": "code",
   "execution_count": 22,
   "id": "4861c950",
   "metadata": {},
   "outputs": [
    {
     "data": {
      "text/plain": [
       "1"
      ]
     },
     "execution_count": 22,
     "metadata": {},
     "output_type": "execute_result"
    }
   ],
   "source": [
    "AND(1,1)\n"
   ]
  },
  {
   "cell_type": "code",
   "execution_count": 23,
   "id": "49355329",
   "metadata": {},
   "outputs": [
    {
     "data": {
      "text/plain": [
       "0"
      ]
     },
     "execution_count": 23,
     "metadata": {},
     "output_type": "execute_result"
    }
   ],
   "source": [
    "AND(1,0)"
   ]
  },
  {
   "cell_type": "code",
   "execution_count": 24,
   "id": "23dcb3ed",
   "metadata": {},
   "outputs": [],
   "source": [
    "#导入偏置和权重\n",
    "#权重w1,w2：控制输入信号重要性的参数；偏置b：调整神经元被激活（输出信号为1）的容易程度\n",
    "#y={0(b+w1x1+w2x2<=0);1(b+w1x1+w2x2>0)}\n",
    "#与门\n",
    "def AND(x1,x2):\n",
    "    x=np.array([x1,x2])\n",
    "    w=np.array([0.5,0.5])\n",
    "    b=-0.7\n",
    "    tmp=np.sum(w*x)+b\n",
    "    if tmp<=0:\n",
    "        return 0\n",
    "    else:\n",
    "        return 1"
   ]
  },
  {
   "cell_type": "code",
   "execution_count": 25,
   "id": "81e72330",
   "metadata": {},
   "outputs": [],
   "source": [
    "#与非门\n",
    "def NAND(x1,x2):\n",
    "    x=np.array([x1,x2])\n",
    "    w=np.array([-0.5,-0.5])\n",
    "    b=0.7\n",
    "    tmp=np.sum(w*x)+b\n",
    "    if tmp<=0:\n",
    "        return 0\n",
    "    else:\n",
    "        return 1"
   ]
  },
  {
   "cell_type": "code",
   "execution_count": 26,
   "id": "6c82b4bd",
   "metadata": {},
   "outputs": [],
   "source": [
    "#或门\n",
    "def OR(x1,x2):\n",
    "    x=np.array([x1,x2])\n",
    "    w=np.array([0.5,0.5])\n",
    "    b=-0.2\n",
    "    tmp=np.sum(w*x)+b\n",
    "    if tmp<=0:\n",
    "        return 0\n",
    "    else:\n",
    "        return 1"
   ]
  },
  {
   "cell_type": "code",
   "execution_count": 27,
   "id": "1e6fa71f",
   "metadata": {},
   "outputs": [],
   "source": [
    "#面对异或门\n",
    "#单层感知机的局限性：只能表示由一条直线分割的空间，即线性空间（将输出0与输出1用直线分隔开）。\n",
    "#单层感知机无法分离非线性空间\n",
    "#多层感知机（叠加层）：曲线分割的空间叫非线性空间\n",
    "#异或门\n",
    "def XOR(x1,x2):\n",
    "    s1=NAND(x1,x2)\n",
    "    s2=OR(x1,x2)\n",
    "    y=AND(s1,s2)\n",
    "    return y"
   ]
  },
  {
   "cell_type": "code",
   "execution_count": 28,
   "id": "45966651",
   "metadata": {},
   "outputs": [
    {
     "data": {
      "text/plain": [
       "0"
      ]
     },
     "execution_count": 28,
     "metadata": {},
     "output_type": "execute_result"
    }
   ],
   "source": [
    "XOR(0,0)"
   ]
  },
  {
   "cell_type": "code",
   "execution_count": 29,
   "id": "73131f88",
   "metadata": {},
   "outputs": [
    {
     "data": {
      "text/plain": [
       "1"
      ]
     },
     "execution_count": 29,
     "metadata": {},
     "output_type": "execute_result"
    }
   ],
   "source": [
    "XOR(0,1)"
   ]
  },
  {
   "cell_type": "code",
   "execution_count": null,
   "id": "e3f496bb",
   "metadata": {},
   "outputs": [],
   "source": [
    "#异或门实现拥有权重的层只有2层：第0层与第1层之间，第1层与第2层之间，所以叫2层感知机\n",
    "#计算机是处理信息的机器。向计算机中输入一些信息后，它会按照某种既定的方式进行处理，然后输出结果\n",
    "#实际上只需要通过与非门的组合，就能再现计算机进行的处理"
   ]
  }
 ],
 "metadata": {
  "kernelspec": {
   "display_name": "Python 3",
   "language": "python",
   "name": "python3"
  },
  "language_info": {
   "codemirror_mode": {
    "name": "ipython",
    "version": 3
   },
   "file_extension": ".py",
   "mimetype": "text/x-python",
   "name": "python",
   "nbconvert_exporter": "python",
   "pygments_lexer": "ipython3",
   "version": "3.8.8"
  }
 },
 "nbformat": 4,
 "nbformat_minor": 5
}
