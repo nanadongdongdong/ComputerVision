{
 "cells": [
  {
   "cell_type": "code",
   "execution_count": 1,
   "id": "338df688",
   "metadata": {},
   "outputs": [
    {
     "data": {
      "text/plain": [
       "-1"
      ]
     },
     "execution_count": 1,
     "metadata": {},
     "output_type": "execute_result"
    }
   ],
   "source": [
    "1-2"
   ]
  },
  {
   "cell_type": "code",
   "execution_count": 2,
   "id": "349ff10c",
   "metadata": {},
   "outputs": [
    {
     "data": {
      "text/plain": [
       "16"
      ]
     },
     "execution_count": 2,
     "metadata": {},
     "output_type": "execute_result"
    }
   ],
   "source": [
    "4*4"
   ]
  },
  {
   "cell_type": "code",
   "execution_count": 3,
   "id": "9b030df7",
   "metadata": {},
   "outputs": [
    {
     "data": {
      "text/plain": [
       "int"
      ]
     },
     "execution_count": 3,
     "metadata": {},
     "output_type": "execute_result"
    }
   ],
   "source": [
    "type(10)"
   ]
  },
  {
   "cell_type": "code",
   "execution_count": 4,
   "id": "b375f011",
   "metadata": {},
   "outputs": [
    {
     "name": "stdout",
     "output_type": "stream",
     "text": [
      "10\n"
     ]
    }
   ],
   "source": [
    "x=10\n",
    "print(x)"
   ]
  },
  {
   "cell_type": "code",
   "execution_count": 5,
   "id": "a82b8a8e",
   "metadata": {},
   "outputs": [
    {
     "name": "stdout",
     "output_type": "stream",
     "text": [
      "[1, 2, 3, 4, 5]\n"
     ]
    }
   ],
   "source": [
    "a=[1,2,3,4,5]\n",
    "print(a)"
   ]
  },
  {
   "cell_type": "code",
   "execution_count": 6,
   "id": "19ef4e56",
   "metadata": {},
   "outputs": [
    {
     "data": {
      "text/plain": [
       "5"
      ]
     },
     "execution_count": 6,
     "metadata": {},
     "output_type": "execute_result"
    }
   ],
   "source": [
    "len(a)"
   ]
  },
  {
   "cell_type": "code",
   "execution_count": 7,
   "id": "547d78e9",
   "metadata": {},
   "outputs": [
    {
     "name": "stdout",
     "output_type": "stream",
     "text": [
      "[1, 2, 3, 4, 99]\n"
     ]
    }
   ],
   "source": [
    "a[4]=99\n",
    "print(a)"
   ]
  },
  {
   "cell_type": "code",
   "execution_count": 8,
   "id": "ee1e34bf",
   "metadata": {},
   "outputs": [
    {
     "data": {
      "text/plain": [
       "[1, 2]"
      ]
     },
     "execution_count": 8,
     "metadata": {},
     "output_type": "execute_result"
    }
   ],
   "source": [
    "a[0:2]#不包括2"
   ]
  },
  {
   "cell_type": "code",
   "execution_count": 9,
   "id": "9a6307aa",
   "metadata": {},
   "outputs": [
    {
     "data": {
      "text/plain": [
       "[2, 3, 4, 99]"
      ]
     },
     "execution_count": 9,
     "metadata": {},
     "output_type": "execute_result"
    }
   ],
   "source": [
    "a[1:]"
   ]
  },
  {
   "cell_type": "code",
   "execution_count": 10,
   "id": "f6cda26e",
   "metadata": {},
   "outputs": [
    {
     "data": {
      "text/plain": [
       "[1, 2, 3]"
      ]
     },
     "execution_count": 10,
     "metadata": {},
     "output_type": "execute_result"
    }
   ],
   "source": [
    "a[:3]"
   ]
  },
  {
   "cell_type": "code",
   "execution_count": 11,
   "id": "0668c205",
   "metadata": {},
   "outputs": [
    {
     "data": {
      "text/plain": [
       "[1, 2, 3, 4]"
      ]
     },
     "execution_count": 11,
     "metadata": {},
     "output_type": "execute_result"
    }
   ],
   "source": [
    "a[:-1]#第一个元素到最后一个元素的前一个元素"
   ]
  },
  {
   "cell_type": "code",
   "execution_count": 12,
   "id": "53f6c1cc",
   "metadata": {},
   "outputs": [
    {
     "data": {
      "text/plain": [
       "[1, 2, 3]"
      ]
     },
     "execution_count": 12,
     "metadata": {},
     "output_type": "execute_result"
    }
   ],
   "source": [
    "a[:-2]#第一个元素到最后一个元素的前两个元素"
   ]
  },
  {
   "cell_type": "code",
   "execution_count": 17,
   "id": "464dec0b",
   "metadata": {},
   "outputs": [
    {
     "data": {
      "text/plain": [
       "180"
      ]
     },
     "execution_count": 17,
     "metadata": {},
     "output_type": "execute_result"
    }
   ],
   "source": [
    "me={'height':180}#生成字典，字典以键值对的形式存储数据,应该是分号\n",
    "me['height']"
   ]
  },
  {
   "cell_type": "code",
   "execution_count": 18,
   "id": "ac2b153f",
   "metadata": {},
   "outputs": [
    {
     "name": "stdout",
     "output_type": "stream",
     "text": [
      "{'height': 70}\n"
     ]
    }
   ],
   "source": [
    "me['height']=70\n",
    "print(me)\n"
   ]
  },
  {
   "cell_type": "code",
   "execution_count": 19,
   "id": "66fdcb80",
   "metadata": {},
   "outputs": [
    {
     "data": {
      "text/plain": [
       "bool"
      ]
     },
     "execution_count": 19,
     "metadata": {},
     "output_type": "execute_result"
    }
   ],
   "source": [
    "hungry=True\n",
    "sleepy=False\n",
    "type(hungry)"
   ]
  },
  {
   "cell_type": "code",
   "execution_count": 20,
   "id": "a92fab0c",
   "metadata": {},
   "outputs": [
    {
     "data": {
      "text/plain": [
       "False"
      ]
     },
     "execution_count": 20,
     "metadata": {},
     "output_type": "execute_result"
    }
   ],
   "source": [
    "not hungry"
   ]
  },
  {
   "cell_type": "code",
   "execution_count": 21,
   "id": "b3d50162",
   "metadata": {},
   "outputs": [
    {
     "data": {
      "text/plain": [
       "False"
      ]
     },
     "execution_count": 21,
     "metadata": {},
     "output_type": "execute_result"
    }
   ],
   "source": [
    "hungry and sleepy"
   ]
  },
  {
   "cell_type": "code",
   "execution_count": 22,
   "id": "9bd94978",
   "metadata": {},
   "outputs": [
    {
     "data": {
      "text/plain": [
       "True"
      ]
     },
     "execution_count": 22,
     "metadata": {},
     "output_type": "execute_result"
    }
   ],
   "source": [
    "hungry or sleepy"
   ]
  },
  {
   "cell_type": "code",
   "execution_count": 23,
   "id": "eb0e95f6",
   "metadata": {},
   "outputs": [
    {
     "ename": "SyntaxError",
     "evalue": "invalid syntax (<ipython-input-23-a0b18f712625>, line 3)",
     "output_type": "error",
     "traceback": [
      "\u001b[1;36m  File \u001b[1;32m\"<ipython-input-23-a0b18f712625>\"\u001b[1;36m, line \u001b[1;32m3\u001b[0m\n\u001b[1;33m    else\u001b[0m\n\u001b[1;37m        ^\u001b[0m\n\u001b[1;31mSyntaxError\u001b[0m\u001b[1;31m:\u001b[0m invalid syntax\n"
     ]
    }
   ],
   "source": [
    "if hungry:\n",
    "    print(\"I'm hungry\")\n",
    "else\n",
    "    print(\"I'm sleepy\")"
   ]
  },
  {
   "cell_type": "code",
   "execution_count": 24,
   "id": "594d2776",
   "metadata": {},
   "outputs": [
    {
     "name": "stdout",
     "output_type": "stream",
     "text": [
      "I'm hungry\n"
     ]
    }
   ],
   "source": [
    "if hungry:\n",
    "    print(\"I'm hungry\")\n",
    "else:\n",
    "    print(\"I'm sleepy\")"
   ]
  },
  {
   "cell_type": "code",
   "execution_count": 25,
   "id": "529b271b",
   "metadata": {},
   "outputs": [
    {
     "ename": "SyntaxError",
     "evalue": "invalid syntax (<ipython-input-25-67aea7fa1003>, line 1)",
     "output_type": "error",
     "traceback": [
      "\u001b[1;36m  File \u001b[1;32m\"<ipython-input-25-67aea7fa1003>\"\u001b[1;36m, line \u001b[1;32m1\u001b[0m\n\u001b[1;33m    fot i in[1,2,3]:\u001b[0m\n\u001b[1;37m        ^\u001b[0m\n\u001b[1;31mSyntaxError\u001b[0m\u001b[1;31m:\u001b[0m invalid syntax\n"
     ]
    }
   ],
   "source": [
    "fot i in[1,2,3]:\n",
    "    priny(i)"
   ]
  },
  {
   "cell_type": "code",
   "execution_count": 31,
   "id": "104451d5",
   "metadata": {},
   "outputs": [
    {
     "ename": "SyntaxError",
     "evalue": "invalid syntax (<ipython-input-31-2336bb1db7d8>, line 1)",
     "output_type": "error",
     "traceback": [
      "\u001b[1;36m  File \u001b[1;32m\"<ipython-input-31-2336bb1db7d8>\"\u001b[1;36m, line \u001b[1;32m1\u001b[0m\n\u001b[1;33m    cd E:\\BaiduNetdiskDownload\\医疗AI\\大作业\\深度学习入门\\【源代码】深度学习入门：基于Python的理论与实现\\ch01\u001b[0m\n\u001b[1;37m       ^\u001b[0m\n\u001b[1;31mSyntaxError\u001b[0m\u001b[1;31m:\u001b[0m invalid syntax\n"
     ]
    }
   ],
   "source": [
    "cd \n",
    "pyE:\\BaiduNetdiskDownload\\医疗AI\\大作业\\深度学习入门\\【源代码】深度学习入门：基于Python的理论与实现\\ch01thon hungry.py"
   ]
  },
  {
   "cell_type": "code",
   "execution_count": 26,
   "id": "33789271",
   "metadata": {},
   "outputs": [
    {
     "ename": "SyntaxError",
     "evalue": "invalid syntax (<ipython-input-26-161d431bbceb>, line 1)",
     "output_type": "error",
     "traceback": [
      "\u001b[1;36m  File \u001b[1;32m\"<ipython-input-26-161d431bbceb>\"\u001b[1;36m, line \u001b[1;32m1\u001b[0m\n\u001b[1;33m    fot i in[1,2,3]:\u001b[0m\n\u001b[1;37m        ^\u001b[0m\n\u001b[1;31mSyntaxError\u001b[0m\u001b[1;31m:\u001b[0m invalid syntax\n"
     ]
    }
   ],
   "source": [
    "fot i in[1,2,3]:\n",
    "    print(i)"
   ]
  },
  {
   "cell_type": "code",
   "execution_count": 27,
   "id": "5c4013ed",
   "metadata": {},
   "outputs": [
    {
     "name": "stdout",
     "output_type": "stream",
     "text": [
      "1\n",
      "2\n",
      "3\n"
     ]
    }
   ],
   "source": [
    "for i in[1,2,3]:\n",
    "    print(i)"
   ]
  },
  {
   "cell_type": "code",
   "execution_count": 28,
   "id": "6b1fd1df",
   "metadata": {},
   "outputs": [
    {
     "name": "stdout",
     "output_type": "stream",
     "text": [
      "Hello World!\n"
     ]
    }
   ],
   "source": [
    "def hello():\n",
    "    print(\"Hello World!\")\n",
    "hello()"
   ]
  },
  {
   "cell_type": "code",
   "execution_count": 29,
   "id": "3937df29",
   "metadata": {},
   "outputs": [
    {
     "name": "stdout",
     "output_type": "stream",
     "text": [
      "Hellocat!\n"
     ]
    }
   ],
   "source": [
    "def hello(object):\n",
    "    print(\"Hello\"+object+\"!\")\n",
    "hello(\"cat\")"
   ]
  },
  {
   "cell_type": "code",
   "execution_count": 30,
   "id": "2b85c4c9",
   "metadata": {},
   "outputs": [
    {
     "name": "stdout",
     "output_type": "stream",
     "text": [
      "Hello cat!\n"
     ]
    }
   ],
   "source": [
    "def hello(object):\n",
    "    print(\"Hello \"+object+\"!\")\n",
    "hello(\"cat\")"
   ]
  },
  {
   "cell_type": "code",
   "execution_count": 32,
   "id": "7224293e",
   "metadata": {},
   "outputs": [
    {
     "ename": "SyntaxError",
     "evalue": "unexpected character after line continuation character (<ipython-input-32-3807eb335e0b>, line 1)",
     "output_type": "error",
     "traceback": [
      "\u001b[1;36m  File \u001b[1;32m\"<ipython-input-32-3807eb335e0b>\"\u001b[1;36m, line \u001b[1;32m1\u001b[0m\n\u001b[1;33m    E:\\BaiduNetdiskDownload\\医疗AI\\大作业\\深度学习入门\\【源代码】深度学习入门：基于Python的理论与实现\\ch01\u001b[0m\n\u001b[1;37m                                                                           ^\u001b[0m\n\u001b[1;31mSyntaxError\u001b[0m\u001b[1;31m:\u001b[0m unexpected character after line continuation character\n"
     ]
    }
   ],
   "source": [
    "E:\\BaiduNetdiskDownload\\医疗AI\\大作业\\深度学习入门\\【源代码】深度学习入门：基于Python的理论与实现\\ch01\n",
    "python hungry.py "
   ]
  },
  {
   "cell_type": "code",
   "execution_count": 33,
   "id": "3682c2e1",
   "metadata": {},
   "outputs": [
    {
     "ename": "SyntaxError",
     "evalue": "invalid syntax (<ipython-input-33-f84442a30aed>, line 1)",
     "output_type": "error",
     "traceback": [
      "\u001b[1;36m  File \u001b[1;32m\"<ipython-input-33-f84442a30aed>\"\u001b[1;36m, line \u001b[1;32m1\u001b[0m\n\u001b[1;33m    python E:\\BaiduNetdiskDownload\\医疗AI\\大作业\\深度学习入门\\【源代码】深度学习入门：基于Python的理论与实现\\ch01\\hungry.py\u001b[0m\n\u001b[1;37m           ^\u001b[0m\n\u001b[1;31mSyntaxError\u001b[0m\u001b[1;31m:\u001b[0m invalid syntax\n"
     ]
    }
   ],
   "source": [
    "python E:\\BaiduNetdiskDownload\\医疗AI\\大作业\\深度学习入门\\【源代码】深度学习入门：基于Python的理论与实现\\ch01\\hungry.py\n",
    "#报错是因为只能在cmd中用这个调出python脚本文件"
   ]
  },
  {
   "cell_type": "code",
   "execution_count": 34,
   "id": "4c2920e9",
   "metadata": {},
   "outputs": [
    {
     "name": "stdout",
     "output_type": "stream",
     "text": [
      "Initialized!\n",
      "Hello David!\n",
      "Good-bye David!\n"
     ]
    }
   ],
   "source": [
    "#类\n",
    "#__init__方法：构造函数，只在生成类的实例时被调用一次\n",
    "#在这个方法的第一个参数中明确的写入表示自身（自身实例）的self是python的一个特点\n",
    "class Man:\n",
    "    def __init__(self,name):\n",
    "        self.name=name\n",
    "        print(\"Initialized!\")\n",
    "    def hello(self):\n",
    "        print(\"Hello \"+self.name+\"!\")\n",
    "    def goodbye(self):\n",
    "        print(\"Good-bye \"+self.name+\"!\")\n",
    "m=Man(\"David\")#类Man生成了实例对象m。类的构造方法（初始化方法）会接收参数name，然后实例化变量self.name，实例变量是存储在各个实例中的变量。self.name生成或者访问实例变量\n",
    "m.hello()\n",
    "m.goodbye()"
   ]
  },
  {
   "cell_type": "code",
   "execution_count": 36,
   "id": "cc1faf53",
   "metadata": {},
   "outputs": [],
   "source": [
    "#导入库\n",
    "import numpy as np"
   ]
  },
  {
   "cell_type": "code",
   "execution_count": 37,
   "id": "9dee5c17",
   "metadata": {},
   "outputs": [
    {
     "name": "stdout",
     "output_type": "stream",
     "text": [
      "[1. 2. 3.]\n"
     ]
    }
   ],
   "source": [
    "x=np.array([1.0,2.0,3.0])\n",
    "print(x)"
   ]
  },
  {
   "cell_type": "code",
   "execution_count": 38,
   "id": "00b89513",
   "metadata": {},
   "outputs": [
    {
     "data": {
      "text/plain": [
       "numpy.ndarray"
      ]
     },
     "execution_count": 38,
     "metadata": {},
     "output_type": "execute_result"
    }
   ],
   "source": [
    "type(x)"
   ]
  },
  {
   "cell_type": "code",
   "execution_count": 39,
   "id": "5081bd44",
   "metadata": {},
   "outputs": [
    {
     "data": {
      "text/plain": [
       "array([3., 6., 9.])"
      ]
     },
     "execution_count": 39,
     "metadata": {},
     "output_type": "execute_result"
    }
   ],
   "source": [
    "#算术运算，数组x与数组y的元素个数是相同的 element-wise\n",
    "y=np.array([2.0,4.0,6.0])\n",
    "x+y"
   ]
  },
  {
   "cell_type": "code",
   "execution_count": 40,
   "id": "a8198bac",
   "metadata": {},
   "outputs": [
    {
     "data": {
      "text/plain": [
       "array([0.5, 1. , 1.5])"
      ]
     },
     "execution_count": 40,
     "metadata": {},
     "output_type": "execute_result"
    }
   ],
   "source": [
    "#数组各个元素和标量之间的运算\n",
    "x/2.0"
   ]
  },
  {
   "cell_type": "code",
   "execution_count": 41,
   "id": "4b7ab327",
   "metadata": {},
   "outputs": [
    {
     "name": "stdout",
     "output_type": "stream",
     "text": [
      "[[1 2]\n",
      " [3 4]]\n"
     ]
    }
   ],
   "source": [
    "#N维数组\n",
    "A=np.array([[1,2],[3,4]])\n",
    "print(A)"
   ]
  },
  {
   "cell_type": "code",
   "execution_count": 43,
   "id": "02652b79",
   "metadata": {},
   "outputs": [
    {
     "data": {
      "text/plain": [
       "(2, 2)"
      ]
     },
     "execution_count": 43,
     "metadata": {},
     "output_type": "execute_result"
    }
   ],
   "source": [
    "A.shape"
   ]
  },
  {
   "cell_type": "code",
   "execution_count": 44,
   "id": "c86b8968",
   "metadata": {},
   "outputs": [
    {
     "data": {
      "text/plain": [
       "dtype('int32')"
      ]
     },
     "execution_count": 44,
     "metadata": {},
     "output_type": "execute_result"
    }
   ],
   "source": [
    "A.dtype"
   ]
  },
  {
   "cell_type": "code",
   "execution_count": 45,
   "id": "ad413c31",
   "metadata": {},
   "outputs": [
    {
     "data": {
      "text/plain": [
       "array([[ 4,  2],\n",
       "       [ 3, 10]])"
      ]
     },
     "execution_count": 45,
     "metadata": {},
     "output_type": "execute_result"
    }
   ],
   "source": [
    "B=np.array([[3,0],[0,6]])\n",
    "A+B"
   ]
  },
  {
   "cell_type": "code",
   "execution_count": 46,
   "id": "3261887f",
   "metadata": {},
   "outputs": [
    {
     "data": {
      "text/plain": [
       "array([[10, 20],\n",
       "       [30, 40]])"
      ]
     },
     "execution_count": 46,
     "metadata": {},
     "output_type": "execute_result"
    }
   ],
   "source": [
    "A*10"
   ]
  },
  {
   "cell_type": "code",
   "execution_count": 47,
   "id": "3a21edd1",
   "metadata": {},
   "outputs": [
    {
     "data": {
      "text/plain": [
       "array([[10, 40],\n",
       "       [30, 80]])"
      ]
     },
     "execution_count": 47,
     "metadata": {},
     "output_type": "execute_result"
    }
   ],
   "source": [
    "#标量：单一的数值\n",
    "#向量：一维数组\n",
    "#矩阵：二维数组\n",
    "#张量：三维以及三维以上数组\n",
    "#不同形状的数组进行计算，叫做广播\n",
    "B=np.array([10,20])\n",
    "A*B"
   ]
  },
  {
   "cell_type": "code",
   "execution_count": 48,
   "id": "253ac94a",
   "metadata": {},
   "outputs": [
    {
     "name": "stdout",
     "output_type": "stream",
     "text": [
      "[[51 55]\n",
      " [14 19]\n",
      " [ 0  4]]\n"
     ]
    }
   ],
   "source": [
    "#访问元素\n",
    "X=np.array([[51,55],[14,19],[0,4]])\n",
    "print(X)"
   ]
  },
  {
   "cell_type": "code",
   "execution_count": 49,
   "id": "000d81b7",
   "metadata": {},
   "outputs": [
    {
     "data": {
      "text/plain": [
       "(3, 2)"
      ]
     },
     "execution_count": 49,
     "metadata": {},
     "output_type": "execute_result"
    }
   ],
   "source": [
    "X.shape"
   ]
  },
  {
   "cell_type": "code",
   "execution_count": 51,
   "id": "374e7260",
   "metadata": {},
   "outputs": [
    {
     "data": {
      "text/plain": [
       "array([51, 55])"
      ]
     },
     "execution_count": 51,
     "metadata": {},
     "output_type": "execute_result"
    }
   ],
   "source": [
    "X[0]"
   ]
  },
  {
   "cell_type": "code",
   "execution_count": 52,
   "id": "31cea317",
   "metadata": {},
   "outputs": [
    {
     "data": {
      "text/plain": [
       "55"
      ]
     },
     "execution_count": 52,
     "metadata": {},
     "output_type": "execute_result"
    }
   ],
   "source": [
    "X[0][1]"
   ]
  },
  {
   "cell_type": "code",
   "execution_count": 53,
   "id": "18e35070",
   "metadata": {},
   "outputs": [
    {
     "name": "stdout",
     "output_type": "stream",
     "text": [
      "[51 55]\n",
      "[14 19]\n",
      "[0 4]\n"
     ]
    }
   ],
   "source": [
    "for row in X:\n",
    "    print(row)"
   ]
  },
  {
   "cell_type": "code",
   "execution_count": 56,
   "id": "3adacbe2",
   "metadata": {},
   "outputs": [
    {
     "name": "stdout",
     "output_type": "stream",
     "text": [
      "[51 55 14 19  0  4]\n"
     ]
    }
   ],
   "source": [
    "#转换成一维数组\n",
    "X=X.flatten()\n",
    "print(X)"
   ]
  },
  {
   "cell_type": "code",
   "execution_count": 57,
   "id": "6d197a73",
   "metadata": {},
   "outputs": [
    {
     "data": {
      "text/plain": [
       "array([51, 14,  0])"
      ]
     },
     "execution_count": 57,
     "metadata": {},
     "output_type": "execute_result"
    }
   ],
   "source": [
    "X[np.array([0,2,4])]"
   ]
  },
  {
   "cell_type": "code",
   "execution_count": 58,
   "id": "3d65f91b",
   "metadata": {},
   "outputs": [
    {
     "data": {
      "text/plain": [
       "array([ True,  True, False,  True, False, False])"
      ]
     },
     "execution_count": 58,
     "metadata": {},
     "output_type": "execute_result"
    }
   ],
   "source": [
    "X>15#用不等号运算符得到一个布尔型的数组"
   ]
  },
  {
   "cell_type": "code",
   "execution_count": 59,
   "id": "9c47ff3b",
   "metadata": {},
   "outputs": [
    {
     "data": {
      "text/plain": [
       "array([51, 55, 19])"
      ]
     },
     "execution_count": 59,
     "metadata": {},
     "output_type": "execute_result"
    }
   ],
   "source": [
    "X[X>15]"
   ]
  },
  {
   "cell_type": "code",
   "execution_count": 60,
   "id": "574b6ba8",
   "metadata": {},
   "outputs": [],
   "source": [
    "#python等动态型语言一般比c和C++等静态类型语言（编译型语言）运算速度慢。\n",
    "#实际上，如果是运算量大的处理对象，用C/C++写程序更好。\n",
    "#python追求性能时，用C/C++实现处理的内容，python充当中间人，负责调用那些用C/C++写的程序，Numpy中，主要的处理也是通过C或者C++实现的"
   ]
  },
  {
   "cell_type": "code",
   "execution_count": 62,
   "id": "6da407dc",
   "metadata": {},
   "outputs": [
    {
     "data": {
      "image/png": "[encoded data removed]",
      "text/plain": [
       "<Figure size 432x288 with 1 Axes>"
      ]
     },
     "metadata": {
      "needs_background": "light"
     },
     "output_type": "display_data"
    }
   ],
   "source": [
    "#Matplotlib\n",
    "import matplotlib.pyplot as plt\n",
    "x=np.arange(0,6,0.1)\n",
    "y=np.sin(x)\n",
    "plt.plot(x,y)\n",
    "plt.show()"
   ]
  },
  {
   "cell_type": "code",
   "execution_count": 66,
   "id": "afc60bc7",
   "metadata": {},
   "outputs": [
    {
     "data": {
      "image/png": "[encoded data removed]",
      "text/plain": [
       "<Figure size 432x288 with 1 Axes>"
      ]
     },
     "metadata": {
      "needs_background": "light"
     },
     "output_type": "display_data"
    }
   ],
   "source": [
    "y1=np.sin(x)\n",
    "y2=np.cos(x)\n",
    "plt.plot(x,y1,label=\"sin\")\n",
    "plt.plot(x,y2,linestyle=\"--\",label=\"cos\")#用虚线绘制\n",
    "plt.xlabel(\"x\")#x轴标签\n",
    "plt.ylabel(\"y\")#y轴标签\n",
    "plt.title(\"sin&cos\")#标题\n",
    "plt.legend()#显示label的sin与cos\n",
    "plt.show()"
   ]
  },
  {
   "cell_type": "code",
   "execution_count": 67,
   "id": "9a19f378",
   "metadata": {},
   "outputs": [
    {
     "data": {
      "image/png": "[encoded data removed]",
      "text/plain": [
       "<Figure size 432x288 with 1 Axes>"
      ]
     },
     "metadata": {
      "needs_background": "light"
     },
     "output_type": "display_data"
    }
   ],
   "source": [
    "#显示图像\n",
    "from matplotlib.image import imread\n",
    "img=imread(\"E:\\BaiduNetdiskDownload\\医疗AI\\大作业\\深度学习入门\\【源代码】深度学习入门：基于Python的理论与实现\\dataset\\lena.png\")\n",
    "plt.imshow(img)\n",
    "plt.show()"
   ]
  },
  {
   "cell_type": "code",
   "execution_count": null,
   "id": "83c80979",
   "metadata": {},
   "outputs": [],
   "source": [
    "#书：python语言及其应用+利用python进行数据分析"
   ]
  }
 ],
 "metadata": {
  "kernelspec": {
   "display_name": "Python 3",
   "language": "python",
   "name": "python3"
  },
  "language_info": {
   "codemirror_mode": {
    "name": "ipython",
    "version": 3
   },
   "file_extension": ".py",
   "mimetype": "text/x-python",
   "name": "python",
   "nbconvert_exporter": "python",
   "pygments_lexer": "ipython3",
   "version": "3.8.8"
  }
 },
 "nbformat": 4,
 "nbformat_minor": 5
}
